{
 "cells": [
  {
   "cell_type": "code",
   "execution_count": 12,
   "metadata": {},
   "outputs": [],
   "source": [
    "import h5py"
   ]
  },
  {
   "cell_type": "code",
   "execution_count": 13,
   "metadata": {},
   "outputs": [
    {
     "name": "stdout",
     "output_type": "stream",
     "text": [
      "Groupes dans le fichier HDF5 : ['X', 'Y', 'Z']\n"
     ]
    }
   ],
   "source": [
    "# Charger le fichier HDF5\n",
    "file_name =  r'C:\\Users\\Amina\\Downloads\\RadioML_dataset\\GOLD_XYZ_OSC.0001_1024.hdf5'\n",
    "f = h5py.File(file_name, 'r')\n",
    "\n",
    "# Explorer la structure des groupes dans le fichier\n",
    "print(\"Groupes dans le fichier HDF5 :\", list(f.keys()))"
   ]
  },
  {
   "cell_type": "code",
   "execution_count": 14,
   "metadata": {},
   "outputs": [
    {
     "name": "stdout",
     "output_type": "stream",
     "text": [
      "Sample 1: I/Q = [[ 0.0420274   0.23476323]\n",
      " [-0.2728826   0.40513492]\n",
      " [-0.26707262  0.22749889]\n",
      " ...\n",
      " [-0.7055947  -0.28693035]\n",
      " [-0.41157472  0.66826206]\n",
      " [ 0.06487698  0.6358149 ]], Label = [1 0 0 0 0 0 0 0 0 0 0 0 0 0 0 0 0 0 0 0 0 0 0 0], SNR = [-20]\n",
      "Sample 2: I/Q = [[ 1.198624    0.4493616 ]\n",
      " [ 0.48543093  0.28272954]\n",
      " [ 0.8679219  -0.33194578]\n",
      " ...\n",
      " [-1.2129315  -0.64293194]\n",
      " [-0.38100415  0.793629  ]\n",
      " [ 0.0864124   1.0921808 ]], Label = [1 0 0 0 0 0 0 0 0 0 0 0 0 0 0 0 0 0 0 0 0 0 0 0], SNR = [-20]\n",
      "Sample 3: I/Q = [[-0.22345497  0.18144214]\n",
      " [ 0.06201788 -0.934319  ]\n",
      " [ 0.71949023  0.21791682]\n",
      " ...\n",
      " [ 0.7598529   0.00820714]\n",
      " [ 0.3396765   0.12928951]\n",
      " [ 0.58232504  0.10775959]], Label = [1 0 0 0 0 0 0 0 0 0 0 0 0 0 0 0 0 0 0 0 0 0 0 0], SNR = [-20]\n",
      "Sample 4: I/Q = [[ 0.37628508 -1.0977991 ]\n",
      " [-0.8325528   0.85677695]\n",
      " [ 0.6864274  -0.05160137]\n",
      " ...\n",
      " [-0.59402794 -1.0192018 ]\n",
      " [-0.03996986  0.6050206 ]\n",
      " [-1.1834852  -0.8250115 ]], Label = [1 0 0 0 0 0 0 0 0 0 0 0 0 0 0 0 0 0 0 0 0 0 0 0], SNR = [-20]\n",
      "Sample 5: I/Q = [[-1.6472628   0.00565968]\n",
      " [-0.65252244 -0.28043643]\n",
      " [-1.1528732   0.369349  ]\n",
      " ...\n",
      " [ 0.68287987  0.7298134 ]\n",
      " [-1.160904   -1.1482558 ]\n",
      " [ 0.65362537  0.11630453]], Label = [1 0 0 0 0 0 0 0 0 0 0 0 0 0 0 0 0 0 0 0 0 0 0 0], SNR = [-20]\n",
      "Sample 6: I/Q = [[-0.8671691   0.73754615]\n",
      " [-0.36163154 -0.25246188]\n",
      " [-0.3282243  -0.29541403]\n",
      " ...\n",
      " [ 0.77555484  0.24261902]\n",
      " [-0.16298124  0.41219696]\n",
      " [ 1.6609218   0.13718693]], Label = [1 0 0 0 0 0 0 0 0 0 0 0 0 0 0 0 0 0 0 0 0 0 0 0], SNR = [-20]\n",
      "Sample 7: I/Q = [[ 0.2222555   0.29910687]\n",
      " [ 0.03568124  0.4419238 ]\n",
      " [-0.5196204  -0.32902476]\n",
      " ...\n",
      " [-0.31721413  0.28356287]\n",
      " [-0.07054927 -0.03900724]\n",
      " [-0.94289327  0.5965812 ]], Label = [1 0 0 0 0 0 0 0 0 0 0 0 0 0 0 0 0 0 0 0 0 0 0 0], SNR = [-20]\n",
      "Sample 8: I/Q = [[ 0.08048291 -0.8901321 ]\n",
      " [-0.19014871  0.5693468 ]\n",
      " [-0.8060696   0.377975  ]\n",
      " ...\n",
      " [-0.03769325  1.1753614 ]\n",
      " [ 0.40794492  0.16862743]\n",
      " [-0.39616418 -0.46701407]], Label = [1 0 0 0 0 0 0 0 0 0 0 0 0 0 0 0 0 0 0 0 0 0 0 0], SNR = [-20]\n",
      "Sample 9: I/Q = [[-0.22437388  1.1258712 ]\n",
      " [-0.85063404  0.13241269]\n",
      " [ 0.3664085  -0.49992895]\n",
      " ...\n",
      " [ 0.01005393  0.4310479 ]\n",
      " [-0.85562956 -0.08321918]\n",
      " [ 0.7112126  -0.94285434]], Label = [1 0 0 0 0 0 0 0 0 0 0 0 0 0 0 0 0 0 0 0 0 0 0 0], SNR = [-20]\n",
      "Sample 10: I/Q = [[ 0.4275345  -0.39440805]\n",
      " [ 0.799718    0.09637037]\n",
      " [-0.16939726 -0.46497536]\n",
      " ...\n",
      " [-0.21386544  0.42527297]\n",
      " [ 0.2814493   0.0946921 ]\n",
      " [-1.9426179  -0.73254836]], Label = [1 0 0 0 0 0 0 0 0 0 0 0 0 0 0 0 0 0 0 0 0 0 0 0], SNR = [-20]\n"
     ]
    }
   ],
   "source": [
    "import h5py\n",
    "\n",
    "# Ouvrir le fichier HDF5\n",
    "with h5py.File('C:\\\\Users\\\\Amina\\\\Downloads\\\\RadioML_dataset\\\\GOLD_XYZ_OSC.0001_1024.hdf5', 'r') as f:\n",
    "    iq_samples = f['X'][:10]  # Récupérer seulement les 10 premiers échantillons\n",
    "    labels = f['Y'][:10]  # Étiquettes pour les 10 premiers échantillons\n",
    "    snr_values = f['Z'][:10]  # Valeurs SNR pour les 10 premiers échantillons\n",
    "\n",
    "# Afficher les échantillons et les étiquettes\n",
    "for i in range(10):\n",
    "    print(f\"Sample {i+1}: I/Q = {iq_samples[i]}, Label = {labels[i]}, SNR = {snr_values[i]}\")"
   ]
  },
  {
   "cell_type": "code",
   "execution_count": 15,
   "metadata": {},
   "outputs": [
    {
     "name": "stdout",
     "output_type": "stream",
     "text": [
      "(2555904, 1024, 2)\n",
      "(2555904, 24)\n",
      "(2555904, 1)\n"
     ]
    }
   ],
   "source": [
    "with h5py.File('C:\\\\Users\\\\Amina\\\\Downloads\\\\RadioML_dataset\\\\GOLD_XYZ_OSC.0001_1024.hdf5', 'r') as f:\n",
    "    print(f['X'].shape)  # Dimensions de IQ\n",
    "    print(f['Y'].shape)  # Dimensions des Labels\n",
    "    print(f['Z'].shape)  # Dimensions de SNR"
   ]
  },
  {
   "cell_type": "code",
   "execution_count": 17,
   "metadata": {},
   "outputs": [
    {
     "name": "stdout",
     "output_type": "stream",
     "text": [
      "SNR pour l'échantillon 866872: -14\n",
      "SNR pour l'échantillon 2227477: 26\n",
      "SNR pour l'échantillon 380726: 8\n",
      "SNR pour l'échantillon 686363: 2\n",
      "SNR pour l'échantillon 1015957: 8\n",
      "SNR pour l'échantillon 513539: 22\n",
      "SNR pour l'échantillon 1068948: -20\n",
      "SNR pour l'échantillon 197285: 24\n",
      "SNR pour l'échantillon 2125382: 28\n",
      "SNR pour l'échantillon 951732: 28\n"
     ]
    }
   ],
   "source": [
    "import random\n",
    "\n",
    "with h5py.File('C:\\\\Users\\\\Amina\\\\Downloads\\\\RadioML_dataset\\\\GOLD_XYZ_OSC.0001_1024.hdf5', 'r') as f:\n",
    "    # Sélectionner aléatoirement quelques indices\n",
    "    random_indices = random.sample(range(f['X'].shape[0]), 10)\n",
    "\n",
    "    # Afficher les SNR pour ces échantillons\n",
    "    for idx in random_indices:\n",
    "        snr = f['Z'][idx][0]\n",
    "        print(f\"SNR pour l'échantillon {idx}: {snr}\")"
   ]
  },
  {
   "cell_type": "code",
   "execution_count": 18,
   "metadata": {},
   "outputs": [
    {
     "name": "stdout",
     "output_type": "stream",
     "text": [
      "Valeurs de SNR sélectionnées (>10): [[12]\n",
      " [12]\n",
      " [12]\n",
      " ...\n",
      " [30]\n",
      " [30]\n",
      " [30]]\n",
      "Modulations les plus fréquentes sélectionnées : ['BPSK', 'QPSK', '8PSK', 'AM-DSB', 'AM-SSB', 'CPFSK']\n",
      "Nombre d'échantillons filtrés : 245760\n",
      "(245760, 1024, 2) (245760, 24) (245760, 1)\n"
     ]
    }
   ],
   "source": [
    "import h5py\n",
    "import numpy as np\n",
    "from collections import Counter\n",
    "\n",
    "# Nombre maximum d'échantillons à lire (ajustez selon la mémoire disponible)\n",
    "sample_size = 700000  # Lire les 700 000 premiers échantillons\n",
    "snr_threshold = 10  # Seuil SNR pour sélectionner les échantillons avec un SNR élevé\n",
    "top_modulations_count = 8  # Sélectionner les 8 modulations les plus fréquentes\n",
    "\n",
    "# Mappage des indices à des noms de modulations (exemple)\n",
    "modulation_names = [\n",
    "    'BPSK', 'QPSK', '8PSK', 'AM-DSB', 'AM-SSB', 'CPFSK', 'GFSK',\n",
    "    'PAM4', 'QAM16', 'QAM64', 'WBFM', 'AM', 'SSB', 'PSK', 'FM', \n",
    "    'GMSK', 'DPSK', 'OFDM', 'OQPSK', 'AM-DSBSC', 'AM-SSBSC', \n",
    "    'ASK', 'FSK', 'MSK'\n",
    "]\n",
    "\n",
    "file_path = r'C:\\Users\\Amina\\Downloads\\RadioML_dataset\\GOLD_XYZ_OSC.0001_1024.hdf5'\n",
    "\n",
    "# Ouvrir le fichier HDF5\n",
    "with h5py.File(file_path, 'r') as f:\n",
    "    # Lire une partie des données (ajustez le sample_size selon la mémoire disponible)\n",
    "    iq_samples = f['X'][:sample_size]\n",
    "    labels = f['Y'][:sample_size]\n",
    "    snr_values = f['Z'][:sample_size]\n",
    "\n",
    "# Trouver les indices des échantillons avec un SNR supérieur au seuil\n",
    "high_snr_indices = np.where(snr_values > snr_threshold)[0]\n",
    "\n",
    "# Afficher les valeurs de SNR sélectionnées\n",
    "selected_snr_values = snr_values[high_snr_indices]\n",
    "print(f\"Valeurs de SNR sélectionnées (>{snr_threshold}): {selected_snr_values}\")\n",
    "\n",
    "# Décoder les vecteurs one-hot en noms de modulations pour les échantillons à SNR élevé\n",
    "decoded_labels = [modulation_names[np.argmax(label)] for label in labels[high_snr_indices]]\n",
    "\n",
    "# Compter les occurrences de chaque modulation parmi les échantillons à SNR élevé\n",
    "modulation_counts = Counter(decoded_labels)\n",
    "\n",
    "# Identifier les modulations les plus fréquentes\n",
    "top_modulations = [mod for mod, count in modulation_counts.most_common(top_modulations_count)]\n",
    "\n",
    "# Afficher les modulations choisies avec leurs noms\n",
    "print(f\"Modulations les plus fréquentes sélectionnées : {top_modulations}\")\n",
    "\n",
    "# Filtrer les indices ayant un SNR élevé et une modulation récurrente\n",
    "filtered_indices = [\n",
    "    idx for idx in high_snr_indices\n",
    "    if modulation_names[np.argmax(labels[idx])] in top_modulations\n",
    "]\n",
    "\n",
    "# Récupérer les échantillons, les labels et les valeurs de SNR correspondant aux indices filtrés\n",
    "filtered_iq_samples = iq_samples[filtered_indices]\n",
    "filtered_labels = labels[filtered_indices]\n",
    "filtered_snr_values = snr_values[filtered_indices]\n",
    "\n",
    "# Afficher la taille des données filtrées\n",
    "print(f\"Nombre d'échantillons filtrés : {len(filtered_indices)}\")\n",
    "print(filtered_iq_samples.shape, filtered_labels.shape, filtered_snr_values.shape)\n"
   ]
  },
  {
   "cell_type": "code",
   "execution_count": 9,
   "metadata": {},
   "outputs": [
    {
     "name": "stdout",
     "output_type": "stream",
     "text": [
      "Valeurs de SNR sélectionnées (>10): [[12]\n",
      " [12]\n",
      " [12]\n",
      " ...\n",
      " [30]\n",
      " [30]\n",
      " [30]]\n",
      "Modulations les plus fréquentes sélectionnées : ['BPSK', 'QPSK', '8PSK', 'AM-DSB', 'AM-SSB', 'CPFSK']\n",
      "Nombre d'échantillons sélectionnés aléatoirement : 100000\n",
      "(100000, 1024, 2) (100000, 24) (100000, 1)\n"
     ]
    }
   ],
   "source": [
    "import h5py\n",
    "import numpy as np\n",
    "from collections import Counter\n",
    "\n",
    "# Nombre maximum d'échantillons à lire (ajustez selon la mémoire disponible)\n",
    "sample_size = 700000  # Lire les 700 000 premiers échantillons\n",
    "snr_threshold = 10  # Seuil SNR pour sélectionner les échantillons avec un SNR élevé\n",
    "top_modulations_count = 8  # Sélectionner les 8 modulations les plus fréquentes\n",
    "final_sample_size = 100000  # Nombre d'échantillons à sélectionner aléatoirement\n",
    "\n",
    "# Mappage des indices à des noms de modulations (exemple)\n",
    "modulation_names = [\n",
    "    'BPSK', 'QPSK', '8PSK', 'AM-DSB', 'AM-SSB', 'CPFSK', 'GFSK',\n",
    "    'PAM4', 'QAM16', 'QAM64', 'WBFM', 'AM', 'SSB', 'PSK', 'FM', \n",
    "    'GMSK', 'DPSK', 'OFDM', 'OQPSK', 'AM-DSBSC', 'AM-SSBSC', \n",
    "    'ASK', 'FSK', 'MSK'\n",
    "]\n",
    "\n",
    "file_path = r'C:\\Users\\Amina\\Downloads\\RadioML_dataset\\GOLD_XYZ_OSC.0001_1024.hdf5'\n",
    "\n",
    "# Ouvrir le fichier HDF5\n",
    "with h5py.File(file_path, 'r') as f:\n",
    "    # Lire une partie des données (ajustez le sample_size selon la mémoire disponible)\n",
    "    iq_samples = f['X'][:sample_size]\n",
    "    labels = f['Y'][:sample_size]\n",
    "    snr_values = f['Z'][:sample_size]\n",
    "\n",
    "# Trouver les indices des échantillons avec un SNR supérieur au seuil\n",
    "high_snr_indices = np.where(snr_values > snr_threshold)[0]\n",
    "\n",
    "# Afficher les valeurs de SNR sélectionnées\n",
    "selected_snr_values = snr_values[high_snr_indices]\n",
    "print(f\"Valeurs de SNR sélectionnées (>{snr_threshold}): {selected_snr_values}\")\n",
    "\n",
    "# Décoder les vecteurs one-hot en noms de modulations pour les échantillons à SNR élevé\n",
    "decoded_labels = [modulation_names[np.argmax(label)] for label in labels[high_snr_indices]]\n",
    "\n",
    "# Compter les occurrences de chaque modulation parmi les échantillons à SNR élevé\n",
    "modulation_counts = Counter(decoded_labels)\n",
    "\n",
    "# Identifier les modulations les plus fréquentes\n",
    "top_modulations = [mod for mod, count in modulation_counts.most_common(top_modulations_count)]\n",
    "\n",
    "# Afficher les modulations choisies avec leurs noms\n",
    "print(f\"Modulations les plus fréquentes sélectionnées : {top_modulations}\")\n",
    "\n",
    "# Filtrer les indices ayant un SNR élevé et une modulation récurrente\n",
    "filtered_indices = [\n",
    "    idx for idx in high_snr_indices\n",
    "    if modulation_names[np.argmax(labels[idx])] in top_modulations\n",
    "]\n",
    "\n",
    "# Sélectionner aléatoirement 100,000 échantillons parmi les indices filtrés\n",
    "random_sample_indices = np.random.choice(filtered_indices, final_sample_size, replace=False)\n",
    "\n",
    "# Récupérer les échantillons, les labels et les valeurs de SNR correspondant aux indices sélectionnés\n",
    "filtered_iq_samples = iq_samples[random_sample_indices]\n",
    "filtered_labels = labels[random_sample_indices]\n",
    "filtered_snr_values = snr_values[random_sample_indices]\n",
    "\n",
    "# Afficher la taille des données filtrées\n",
    "print(f\"Nombre d'échantillons sélectionnés aléatoirement : {len(random_sample_indices)}\")\n",
    "print(filtered_iq_samples.shape, filtered_labels.shape, filtered_snr_values.shape)\n"
   ]
  }
 ],
 "metadata": {
  "kernelspec": {
   "display_name": "Python 3",
   "language": "python",
   "name": "python3"
  },
  "language_info": {
   "codemirror_mode": {
    "name": "ipython",
    "version": 3
   },
   "file_extension": ".py",
   "mimetype": "text/x-python",
   "name": "python",
   "nbconvert_exporter": "python",
   "pygments_lexer": "ipython3",
   "version": "3.12.6"
  }
 },
 "nbformat": 4,
 "nbformat_minor": 2
}
